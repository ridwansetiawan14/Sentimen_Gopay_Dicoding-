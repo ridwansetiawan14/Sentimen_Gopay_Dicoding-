{
  "nbformat": 4,
  "nbformat_minor": 0,
  "metadata": {
    "colab": {
      "provenance": []
    },
    "kernelspec": {
      "name": "python3",
      "display_name": "Python 3"
    },
    "language_info": {
      "name": "python"
    }
  },
  "cells": [
    {
      "cell_type": "markdown",
      "source": [
        "### **Sentimen Analisis Untuk Aplikasi Playstore (Studi Kasus GoPay)**"
      ],
      "metadata": {
        "id": "4m0IvzsP4kvi"
      }
    },
    {
      "cell_type": "markdown",
      "source": [
        "# **PERSIAPAN**"
      ],
      "metadata": {
        "id": "29shy22Z4OZz"
      }
    },
    {
      "cell_type": "code",
      "source": [
        "import pandas as pd\n",
        "import numpy as np\n",
        "import re\n",
        "import tensorflow as tf\n",
        "from tensorflow.keras.models import Sequential\n",
        "from tensorflow.keras.layers import Dense, LSTM, GRU, Embedding, SpatialDropout1D, Dropout, Conv1D, MaxPooling1D, Flatten, Bidirectional\n",
        "from tensorflow.keras.preprocessing.sequence import pad_sequences\n",
        "from tensorflow.keras.preprocessing.text import Tokenizer\n",
        "from tensorflow.keras.callbacks import EarlyStopping\n",
        "from sklearn.model_selection import train_test_split\n",
        "from sklearn.metrics import accuracy_score, classification_report\n",
        "from sklearn.preprocessing import LabelEncoder\n",
        "import joblib\n",
        "from google.colab import drive\n",
        "drive.mount('/content/drive')\n"
      ],
      "metadata": {
        "colab": {
          "base_uri": "https://localhost:8080/"
        },
        "id": "MoeGxvTB4Re4",
        "outputId": "e4cbce5a-8ace-40bb-d65e-b693143a3aee"
      },
      "execution_count": 1,
      "outputs": [
        {
          "output_type": "stream",
          "name": "stdout",
          "text": [
            "Mounted at /content/drive\n"
          ]
        }
      ]
    },
    {
      "cell_type": "markdown",
      "source": [
        "# **Memuat dan Membersihkan Data**"
      ],
      "metadata": {
        "id": "0JXSuqER433_"
      }
    },
    {
      "cell_type": "code",
      "source": [
        "# Memuat data ulasan dari file CSV\n",
        "csv_file_path = '/content/drive/My Drive/Colab Notebooks/SUBMISION/gopayreviews.csv'\n",
        "df = pd.read_csv(csv_file_path)\n",
        "\n",
        "# Menampilkan informasi ringkas tentang DataFrame\n",
        "df.info()\n",
        "\n",
        "# Membersihkan teks ulasan\n",
        "def clean_text(text):\n",
        "    text = re.sub(r'\\b\\w{1,2}\\b', '', text)  # Menghapus kata dengan 1-2 huruf\n",
        "    text = re.sub(r'[^a-zA-Z\\s]', '', text)   # Menghapus karakter non-alfabet\n",
        "    text = text.lower()                       # Mengubah menjadi huruf kecil\n",
        "    return text\n",
        "\n",
        "df['cleaned_content'] = df['content'].apply(clean_text)\n",
        "\n",
        "# Melabeli data berdasarkan skor\n",
        "def label_sentiment(score):\n",
        "    if score >= 4:\n",
        "        return 'positif'\n",
        "    elif score == 3:\n",
        "        return 'netral'\n",
        "    else:\n",
        "        return 'negatif'\n",
        "\n",
        "df['label'] = df['score'].apply(label_sentiment)\n",
        "label_encoder = LabelEncoder()\n",
        "y = label_encoder.fit_transform(df['label'])\n",
        "\n",
        "# Tokenizing dan Padding untuk model LSTM, CNN, GRU, BiLSTM\n",
        "tokenizer = Tokenizer(num_words=5000)\n",
        "tokenizer.fit_on_texts(df['cleaned_content'])\n",
        "X_seq = tokenizer.texts_to_sequences(df['cleaned_content'])\n",
        "X_padded = pad_sequences(X_seq, maxlen=100)\n",
        "\n",
        "# Membagi data menjadi training dan testing set\n",
        "X_train_padded, X_test_padded, y_train, y_test = train_test_split(X_padded, y, test_size=0.2, random_state=42)\n"
      ],
      "metadata": {
        "colab": {
          "base_uri": "https://localhost:8080/"
        },
        "id": "ieCmXDIh40DV",
        "outputId": "ea8c3c15-8415-4a3d-f5f0-284b606d73a3"
      },
      "execution_count": 2,
      "outputs": [
        {
          "output_type": "stream",
          "name": "stdout",
          "text": [
            "<class 'pandas.core.frame.DataFrame'>\n",
            "RangeIndex: 12500 entries, 0 to 12499\n",
            "Data columns (total 11 columns):\n",
            " #   Column                Non-Null Count  Dtype \n",
            "---  ------                --------------  ----- \n",
            " 0   reviewId              12500 non-null  object\n",
            " 1   userName              12500 non-null  object\n",
            " 2   userImage             12500 non-null  object\n",
            " 3   content               12500 non-null  object\n",
            " 4   score                 12500 non-null  int64 \n",
            " 5   thumbsUpCount         12500 non-null  int64 \n",
            " 6   reviewCreatedVersion  10224 non-null  object\n",
            " 7   at                    12500 non-null  object\n",
            " 8   replyContent          1575 non-null   object\n",
            " 9   repliedAt             1575 non-null   object\n",
            " 10  appVersion            10224 non-null  object\n",
            "dtypes: int64(2), object(9)\n",
            "memory usage: 1.0+ MB\n"
          ]
        }
      ]
    },
    {
      "cell_type": "code",
      "source": [
        "# Tampilkan sample Baris Data\n",
        "df.head()"
      ],
      "metadata": {
        "colab": {
          "base_uri": "https://localhost:8080/",
          "height": 547
        },
        "id": "uhVdZ5xD5Sl8",
        "outputId": "276879f1-2fd5-42dd-f328-420ef376a6c4"
      },
      "execution_count": 3,
      "outputs": [
        {
          "output_type": "stream",
          "name": "stderr",
          "text": [
            "/usr/local/lib/python3.10/dist-packages/google/colab/_dataframe_summarizer.py:88: UserWarning: Could not infer format, so each element will be parsed individually, falling back to `dateutil`. To ensure parsing is consistent and as-expected, please specify a format.\n",
            "  cast_date_col = pd.to_datetime(column, errors=\"coerce\")\n",
            "/usr/local/lib/python3.10/dist-packages/google/colab/_dataframe_summarizer.py:88: UserWarning: Could not infer format, so each element will be parsed individually, falling back to `dateutil`. To ensure parsing is consistent and as-expected, please specify a format.\n",
            "  cast_date_col = pd.to_datetime(column, errors=\"coerce\")\n"
          ]
        },
        {
          "output_type": "execute_result",
          "data": {
            "text/plain": [
              "                               reviewId       userName  \\\n",
              "0  d49949da-d9a7-400c-93c1-a73b4e491686    Agoez Ahmad   \n",
              "1  e9c9d00e-55a4-41c8-a257-387afea1bb55   Kurnia Wandi   \n",
              "2  f793671b-e5b3-4a38-837a-8da3faf43278  Irwan Saputra   \n",
              "3  4d0a7c51-afa8-4671-ae27-cd4e37913539   Idris Copler   \n",
              "4  b25d5649-5f8e-42fe-bd72-f003dddf366b    Ade Rusrika   \n",
              "\n",
              "                                           userImage  \\\n",
              "0  https://play-lh.googleusercontent.com/a-/ALV-U...   \n",
              "1  https://play-lh.googleusercontent.com/a/ACg8oc...   \n",
              "2  https://play-lh.googleusercontent.com/a/ACg8oc...   \n",
              "3  https://play-lh.googleusercontent.com/a-/ALV-U...   \n",
              "4  https://play-lh.googleusercontent.com/a/ACg8oc...   \n",
              "\n",
              "                     content  score  thumbsUpCount reviewCreatedVersion  \\\n",
              "0  Mantap dan Ok Banget ❤️👍🫰      5              0                  NaN   \n",
              "1          Praktis dan cepat      5              0               1.28.0   \n",
              "2     Lebih canggih dan aman      5              0               1.27.0   \n",
              "3                    Makjoss      5              0               1.28.0   \n",
              "4               Mantap gopay      5              0               1.28.0   \n",
              "\n",
              "                    at replyContent repliedAt appVersion  \\\n",
              "0  2024-08-09 14:28:37          NaN       NaN        NaN   \n",
              "1  2024-08-09 14:27:33          NaN       NaN     1.28.0   \n",
              "2  2024-08-09 14:27:01          NaN       NaN     1.27.0   \n",
              "3  2024-08-09 14:26:24          NaN       NaN     1.28.0   \n",
              "4  2024-08-09 14:24:18          NaN       NaN     1.28.0   \n",
              "\n",
              "          cleaned_content    label  \n",
              "0     mantap dan  banget   positif  \n",
              "1       praktis dan cepat  positif  \n",
              "2  lebih canggih dan aman  positif  \n",
              "3                 makjoss  positif  \n",
              "4            mantap gopay  positif  "
            ],
            "text/html": [
              "\n",
              "  <div id=\"df-19379bc7-ef05-40f6-9401-7e8fc4aab404\" class=\"colab-df-container\">\n",
              "    <div>\n",
              "<style scoped>\n",
              "    .dataframe tbody tr th:only-of-type {\n",
              "        vertical-align: middle;\n",
              "    }\n",
              "\n",
              "    .dataframe tbody tr th {\n",
              "        vertical-align: top;\n",
              "    }\n",
              "\n",
              "    .dataframe thead th {\n",
              "        text-align: right;\n",
              "    }\n",
              "</style>\n",
              "<table border=\"1\" class=\"dataframe\">\n",
              "  <thead>\n",
              "    <tr style=\"text-align: right;\">\n",
              "      <th></th>\n",
              "      <th>reviewId</th>\n",
              "      <th>userName</th>\n",
              "      <th>userImage</th>\n",
              "      <th>content</th>\n",
              "      <th>score</th>\n",
              "      <th>thumbsUpCount</th>\n",
              "      <th>reviewCreatedVersion</th>\n",
              "      <th>at</th>\n",
              "      <th>replyContent</th>\n",
              "      <th>repliedAt</th>\n",
              "      <th>appVersion</th>\n",
              "      <th>cleaned_content</th>\n",
              "      <th>label</th>\n",
              "    </tr>\n",
              "  </thead>\n",
              "  <tbody>\n",
              "    <tr>\n",
              "      <th>0</th>\n",
              "      <td>d49949da-d9a7-400c-93c1-a73b4e491686</td>\n",
              "      <td>Agoez Ahmad</td>\n",
              "      <td>https://play-lh.googleusercontent.com/a-/ALV-U...</td>\n",
              "      <td>Mantap dan Ok Banget ❤️👍🫰</td>\n",
              "      <td>5</td>\n",
              "      <td>0</td>\n",
              "      <td>NaN</td>\n",
              "      <td>2024-08-09 14:28:37</td>\n",
              "      <td>NaN</td>\n",
              "      <td>NaN</td>\n",
              "      <td>NaN</td>\n",
              "      <td>mantap dan  banget</td>\n",
              "      <td>positif</td>\n",
              "    </tr>\n",
              "    <tr>\n",
              "      <th>1</th>\n",
              "      <td>e9c9d00e-55a4-41c8-a257-387afea1bb55</td>\n",
              "      <td>Kurnia Wandi</td>\n",
              "      <td>https://play-lh.googleusercontent.com/a/ACg8oc...</td>\n",
              "      <td>Praktis dan cepat</td>\n",
              "      <td>5</td>\n",
              "      <td>0</td>\n",
              "      <td>1.28.0</td>\n",
              "      <td>2024-08-09 14:27:33</td>\n",
              "      <td>NaN</td>\n",
              "      <td>NaN</td>\n",
              "      <td>1.28.0</td>\n",
              "      <td>praktis dan cepat</td>\n",
              "      <td>positif</td>\n",
              "    </tr>\n",
              "    <tr>\n",
              "      <th>2</th>\n",
              "      <td>f793671b-e5b3-4a38-837a-8da3faf43278</td>\n",
              "      <td>Irwan Saputra</td>\n",
              "      <td>https://play-lh.googleusercontent.com/a/ACg8oc...</td>\n",
              "      <td>Lebih canggih dan aman</td>\n",
              "      <td>5</td>\n",
              "      <td>0</td>\n",
              "      <td>1.27.0</td>\n",
              "      <td>2024-08-09 14:27:01</td>\n",
              "      <td>NaN</td>\n",
              "      <td>NaN</td>\n",
              "      <td>1.27.0</td>\n",
              "      <td>lebih canggih dan aman</td>\n",
              "      <td>positif</td>\n",
              "    </tr>\n",
              "    <tr>\n",
              "      <th>3</th>\n",
              "      <td>4d0a7c51-afa8-4671-ae27-cd4e37913539</td>\n",
              "      <td>Idris Copler</td>\n",
              "      <td>https://play-lh.googleusercontent.com/a-/ALV-U...</td>\n",
              "      <td>Makjoss</td>\n",
              "      <td>5</td>\n",
              "      <td>0</td>\n",
              "      <td>1.28.0</td>\n",
              "      <td>2024-08-09 14:26:24</td>\n",
              "      <td>NaN</td>\n",
              "      <td>NaN</td>\n",
              "      <td>1.28.0</td>\n",
              "      <td>makjoss</td>\n",
              "      <td>positif</td>\n",
              "    </tr>\n",
              "    <tr>\n",
              "      <th>4</th>\n",
              "      <td>b25d5649-5f8e-42fe-bd72-f003dddf366b</td>\n",
              "      <td>Ade Rusrika</td>\n",
              "      <td>https://play-lh.googleusercontent.com/a/ACg8oc...</td>\n",
              "      <td>Mantap gopay</td>\n",
              "      <td>5</td>\n",
              "      <td>0</td>\n",
              "      <td>1.28.0</td>\n",
              "      <td>2024-08-09 14:24:18</td>\n",
              "      <td>NaN</td>\n",
              "      <td>NaN</td>\n",
              "      <td>1.28.0</td>\n",
              "      <td>mantap gopay</td>\n",
              "      <td>positif</td>\n",
              "    </tr>\n",
              "  </tbody>\n",
              "</table>\n",
              "</div>\n",
              "    <div class=\"colab-df-buttons\">\n",
              "\n",
              "  <div class=\"colab-df-container\">\n",
              "    <button class=\"colab-df-convert\" onclick=\"convertToInteractive('df-19379bc7-ef05-40f6-9401-7e8fc4aab404')\"\n",
              "            title=\"Convert this dataframe to an interactive table.\"\n",
              "            style=\"display:none;\">\n",
              "\n",
              "  <svg xmlns=\"http://www.w3.org/2000/svg\" height=\"24px\" viewBox=\"0 -960 960 960\">\n",
              "    <path d=\"M120-120v-720h720v720H120Zm60-500h600v-160H180v160Zm220 220h160v-160H400v160Zm0 220h160v-160H400v160ZM180-400h160v-160H180v160Zm440 0h160v-160H620v160ZM180-180h160v-160H180v160Zm440 0h160v-160H620v160Z\"/>\n",
              "  </svg>\n",
              "    </button>\n",
              "\n",
              "  <style>\n",
              "    .colab-df-container {\n",
              "      display:flex;\n",
              "      gap: 12px;\n",
              "    }\n",
              "\n",
              "    .colab-df-convert {\n",
              "      background-color: #E8F0FE;\n",
              "      border: none;\n",
              "      border-radius: 50%;\n",
              "      cursor: pointer;\n",
              "      display: none;\n",
              "      fill: #1967D2;\n",
              "      height: 32px;\n",
              "      padding: 0 0 0 0;\n",
              "      width: 32px;\n",
              "    }\n",
              "\n",
              "    .colab-df-convert:hover {\n",
              "      background-color: #E2EBFA;\n",
              "      box-shadow: 0px 1px 2px rgba(60, 64, 67, 0.3), 0px 1px 3px 1px rgba(60, 64, 67, 0.15);\n",
              "      fill: #174EA6;\n",
              "    }\n",
              "\n",
              "    .colab-df-buttons div {\n",
              "      margin-bottom: 4px;\n",
              "    }\n",
              "\n",
              "    [theme=dark] .colab-df-convert {\n",
              "      background-color: #3B4455;\n",
              "      fill: #D2E3FC;\n",
              "    }\n",
              "\n",
              "    [theme=dark] .colab-df-convert:hover {\n",
              "      background-color: #434B5C;\n",
              "      box-shadow: 0px 1px 3px 1px rgba(0, 0, 0, 0.15);\n",
              "      filter: drop-shadow(0px 1px 2px rgba(0, 0, 0, 0.3));\n",
              "      fill: #FFFFFF;\n",
              "    }\n",
              "  </style>\n",
              "\n",
              "    <script>\n",
              "      const buttonEl =\n",
              "        document.querySelector('#df-19379bc7-ef05-40f6-9401-7e8fc4aab404 button.colab-df-convert');\n",
              "      buttonEl.style.display =\n",
              "        google.colab.kernel.accessAllowed ? 'block' : 'none';\n",
              "\n",
              "      async function convertToInteractive(key) {\n",
              "        const element = document.querySelector('#df-19379bc7-ef05-40f6-9401-7e8fc4aab404');\n",
              "        const dataTable =\n",
              "          await google.colab.kernel.invokeFunction('convertToInteractive',\n",
              "                                                    [key], {});\n",
              "        if (!dataTable) return;\n",
              "\n",
              "        const docLinkHtml = 'Like what you see? Visit the ' +\n",
              "          '<a target=\"_blank\" href=https://colab.research.google.com/notebooks/data_table.ipynb>data table notebook</a>'\n",
              "          + ' to learn more about interactive tables.';\n",
              "        element.innerHTML = '';\n",
              "        dataTable['output_type'] = 'display_data';\n",
              "        await google.colab.output.renderOutput(dataTable, element);\n",
              "        const docLink = document.createElement('div');\n",
              "        docLink.innerHTML = docLinkHtml;\n",
              "        element.appendChild(docLink);\n",
              "      }\n",
              "    </script>\n",
              "  </div>\n",
              "\n",
              "\n",
              "<div id=\"df-f0b0089a-101c-4ec7-b190-b4f1783f0e8e\">\n",
              "  <button class=\"colab-df-quickchart\" onclick=\"quickchart('df-f0b0089a-101c-4ec7-b190-b4f1783f0e8e')\"\n",
              "            title=\"Suggest charts\"\n",
              "            style=\"display:none;\">\n",
              "\n",
              "<svg xmlns=\"http://www.w3.org/2000/svg\" height=\"24px\"viewBox=\"0 0 24 24\"\n",
              "     width=\"24px\">\n",
              "    <g>\n",
              "        <path d=\"M19 3H5c-1.1 0-2 .9-2 2v14c0 1.1.9 2 2 2h14c1.1 0 2-.9 2-2V5c0-1.1-.9-2-2-2zM9 17H7v-7h2v7zm4 0h-2V7h2v10zm4 0h-2v-4h2v4z\"/>\n",
              "    </g>\n",
              "</svg>\n",
              "  </button>\n",
              "\n",
              "<style>\n",
              "  .colab-df-quickchart {\n",
              "      --bg-color: #E8F0FE;\n",
              "      --fill-color: #1967D2;\n",
              "      --hover-bg-color: #E2EBFA;\n",
              "      --hover-fill-color: #174EA6;\n",
              "      --disabled-fill-color: #AAA;\n",
              "      --disabled-bg-color: #DDD;\n",
              "  }\n",
              "\n",
              "  [theme=dark] .colab-df-quickchart {\n",
              "      --bg-color: #3B4455;\n",
              "      --fill-color: #D2E3FC;\n",
              "      --hover-bg-color: #434B5C;\n",
              "      --hover-fill-color: #FFFFFF;\n",
              "      --disabled-bg-color: #3B4455;\n",
              "      --disabled-fill-color: #666;\n",
              "  }\n",
              "\n",
              "  .colab-df-quickchart {\n",
              "    background-color: var(--bg-color);\n",
              "    border: none;\n",
              "    border-radius: 50%;\n",
              "    cursor: pointer;\n",
              "    display: none;\n",
              "    fill: var(--fill-color);\n",
              "    height: 32px;\n",
              "    padding: 0;\n",
              "    width: 32px;\n",
              "  }\n",
              "\n",
              "  .colab-df-quickchart:hover {\n",
              "    background-color: var(--hover-bg-color);\n",
              "    box-shadow: 0 1px 2px rgba(60, 64, 67, 0.3), 0 1px 3px 1px rgba(60, 64, 67, 0.15);\n",
              "    fill: var(--button-hover-fill-color);\n",
              "  }\n",
              "\n",
              "  .colab-df-quickchart-complete:disabled,\n",
              "  .colab-df-quickchart-complete:disabled:hover {\n",
              "    background-color: var(--disabled-bg-color);\n",
              "    fill: var(--disabled-fill-color);\n",
              "    box-shadow: none;\n",
              "  }\n",
              "\n",
              "  .colab-df-spinner {\n",
              "    border: 2px solid var(--fill-color);\n",
              "    border-color: transparent;\n",
              "    border-bottom-color: var(--fill-color);\n",
              "    animation:\n",
              "      spin 1s steps(1) infinite;\n",
              "  }\n",
              "\n",
              "  @keyframes spin {\n",
              "    0% {\n",
              "      border-color: transparent;\n",
              "      border-bottom-color: var(--fill-color);\n",
              "      border-left-color: var(--fill-color);\n",
              "    }\n",
              "    20% {\n",
              "      border-color: transparent;\n",
              "      border-left-color: var(--fill-color);\n",
              "      border-top-color: var(--fill-color);\n",
              "    }\n",
              "    30% {\n",
              "      border-color: transparent;\n",
              "      border-left-color: var(--fill-color);\n",
              "      border-top-color: var(--fill-color);\n",
              "      border-right-color: var(--fill-color);\n",
              "    }\n",
              "    40% {\n",
              "      border-color: transparent;\n",
              "      border-right-color: var(--fill-color);\n",
              "      border-top-color: var(--fill-color);\n",
              "    }\n",
              "    60% {\n",
              "      border-color: transparent;\n",
              "      border-right-color: var(--fill-color);\n",
              "    }\n",
              "    80% {\n",
              "      border-color: transparent;\n",
              "      border-right-color: var(--fill-color);\n",
              "      border-bottom-color: var(--fill-color);\n",
              "    }\n",
              "    90% {\n",
              "      border-color: transparent;\n",
              "      border-bottom-color: var(--fill-color);\n",
              "    }\n",
              "  }\n",
              "</style>\n",
              "\n",
              "  <script>\n",
              "    async function quickchart(key) {\n",
              "      const quickchartButtonEl =\n",
              "        document.querySelector('#' + key + ' button');\n",
              "      quickchartButtonEl.disabled = true;  // To prevent multiple clicks.\n",
              "      quickchartButtonEl.classList.add('colab-df-spinner');\n",
              "      try {\n",
              "        const charts = await google.colab.kernel.invokeFunction(\n",
              "            'suggestCharts', [key], {});\n",
              "      } catch (error) {\n",
              "        console.error('Error during call to suggestCharts:', error);\n",
              "      }\n",
              "      quickchartButtonEl.classList.remove('colab-df-spinner');\n",
              "      quickchartButtonEl.classList.add('colab-df-quickchart-complete');\n",
              "    }\n",
              "    (() => {\n",
              "      let quickchartButtonEl =\n",
              "        document.querySelector('#df-f0b0089a-101c-4ec7-b190-b4f1783f0e8e button');\n",
              "      quickchartButtonEl.style.display =\n",
              "        google.colab.kernel.accessAllowed ? 'block' : 'none';\n",
              "    })();\n",
              "  </script>\n",
              "</div>\n",
              "\n",
              "    </div>\n",
              "  </div>\n"
            ],
            "application/vnd.google.colaboratory.intrinsic+json": {
              "type": "dataframe",
              "variable_name": "df",
              "summary": "{\n  \"name\": \"df\",\n  \"rows\": 12500,\n  \"fields\": [\n    {\n      \"column\": \"reviewId\",\n      \"properties\": {\n        \"dtype\": \"string\",\n        \"num_unique_values\": 12500,\n        \"samples\": [\n          \"f4171fb9-b9cf-4b3c-81c6-122e7170fdab\",\n          \"5312ba1f-c594-4663-9b7b-7753d64b19a5\",\n          \"6f86d7e9-3108-40c3-8954-4815e35f28cc\"\n        ],\n        \"semantic_type\": \"\",\n        \"description\": \"\"\n      }\n    },\n    {\n      \"column\": \"userName\",\n      \"properties\": {\n        \"dtype\": \"string\",\n        \"num_unique_values\": 12330,\n        \"samples\": [\n          \"Yusuf m\",\n          \"JUSMIN Juriska\",\n          \"JAMAL 3 D\"\n        ],\n        \"semantic_type\": \"\",\n        \"description\": \"\"\n      }\n    },\n    {\n      \"column\": \"userImage\",\n      \"properties\": {\n        \"dtype\": \"string\",\n        \"num_unique_values\": 12499,\n        \"samples\": [\n          \"https://play-lh.googleusercontent.com/a/ACg8ocKZJlGZ3M-6-3GF1mpa70tpP0xJVp34EnRTWjPkjZpzxA4ivA=mo\",\n          \"https://play-lh.googleusercontent.com/a-/ALV-UjW1vyyBaF2q_mdgmqxHx-9oF3_EpLaqWbpvl0Wzncce5-EYxinr\",\n          \"https://play-lh.googleusercontent.com/a-/ALV-UjUM8Q4ndA3C8BzJzcoKWfbOgnZHFmM4ec6g5dqdqIi4c9XM8gU\"\n        ],\n        \"semantic_type\": \"\",\n        \"description\": \"\"\n      }\n    },\n    {\n      \"column\": \"content\",\n      \"properties\": {\n        \"dtype\": \"string\",\n        \"num_unique_values\": 8587,\n        \"samples\": [\n          \"Baru pertama pasang aplikasi jdi belum tau....\",\n          \"Mantap, sayang ga bisa cairin gopay pinjam nya\",\n          \"Mantap Sip\"\n        ],\n        \"semantic_type\": \"\",\n        \"description\": \"\"\n      }\n    },\n    {\n      \"column\": \"score\",\n      \"properties\": {\n        \"dtype\": \"number\",\n        \"std\": 1,\n        \"min\": 1,\n        \"max\": 5,\n        \"num_unique_values\": 5,\n        \"samples\": [\n          1,\n          3,\n          4\n        ],\n        \"semantic_type\": \"\",\n        \"description\": \"\"\n      }\n    },\n    {\n      \"column\": \"thumbsUpCount\",\n      \"properties\": {\n        \"dtype\": \"number\",\n        \"std\": 117,\n        \"min\": 0,\n        \"max\": 12983,\n        \"num_unique_values\": 56,\n        \"samples\": [\n          0,\n          6,\n          124\n        ],\n        \"semantic_type\": \"\",\n        \"description\": \"\"\n      }\n    },\n    {\n      \"column\": \"reviewCreatedVersion\",\n      \"properties\": {\n        \"dtype\": \"date\",\n        \"min\": \"2000-01-04 00:00:00\",\n        \"max\": \"2002-01-20 00:00:00\",\n        \"num_unique_values\": 25,\n        \"samples\": [\n          \"1.24.1\",\n          \"1.18.1\",\n          \"1.28.0\"\n        ],\n        \"semantic_type\": \"\",\n        \"description\": \"\"\n      }\n    },\n    {\n      \"column\": \"at\",\n      \"properties\": {\n        \"dtype\": \"object\",\n        \"num_unique_values\": 12463,\n        \"samples\": [\n          \"2024-07-13 15:16:47\",\n          \"2024-07-15 14:10:36\",\n          \"2024-08-04 02:33:15\"\n        ],\n        \"semantic_type\": \"\",\n        \"description\": \"\"\n      }\n    },\n    {\n      \"column\": \"replyContent\",\n      \"properties\": {\n        \"dtype\": \"category\",\n        \"num_unique_values\": 1568,\n        \"samples\": [\n          \"Hai Kak Hendrik, maaf atas ketidaknyamanannya. Pastikan kamu menggunakan aplikasi GoPay versi terbaru dan kode QR yang dipindai berasal dari merchant yang menerima pembayaran melalui kode GoPay. Jika masih berkendala, laporkan melalui email ke customerservice@gopay.co.id dan cantumkan kode psr-24-192-1548-23528 pada subjek email. ^Ve\",\n          \"Hai Kak Agus, terima kasih atas ulasannya. Kritik & saran yang kamu berikan akan menjadi masukan bagi kami untuk terus meningkatkan kualitas layanan kami ke depannya. Jika kamu memiliki pertanyaan atau kendala lainnya, silakan kunjungi menu Bantuan di aplikasi GoPay kamu atau email ke customerservice@gopay.co.id. ^Tria\",\n          \"Hai Kak Dede, mohon maaf atas ketidaknyamanannya. Kritik & saran yang kamu berikan akan menjadi masukan bagi kami untuk terus meningkatkan kualitas layanan kami ke depannya. Jika kamu memiliki pertanyaan atau kendala lainnya, silakan kunjungi menu Bantuan di aplikasi GoPay kamu atau email ke customerservice@gopay.co.id. ^Tria\"\n        ],\n        \"semantic_type\": \"\",\n        \"description\": \"\"\n      }\n    },\n    {\n      \"column\": \"repliedAt\",\n      \"properties\": {\n        \"dtype\": \"date\",\n        \"min\": \"2023-05-15 06:06:38\",\n        \"max\": \"2024-08-10 12:08:05\",\n        \"num_unique_values\": 1575,\n        \"samples\": [\n          \"2024-07-17 06:52:35\",\n          \"2024-07-25 13:25:22\",\n          \"2024-07-17 14:52:43\"\n        ],\n        \"semantic_type\": \"\",\n        \"description\": \"\"\n      }\n    },\n    {\n      \"column\": \"appVersion\",\n      \"properties\": {\n        \"dtype\": \"date\",\n        \"min\": \"2000-01-04 00:00:00\",\n        \"max\": \"2002-01-20 00:00:00\",\n        \"num_unique_values\": 25,\n        \"samples\": [\n          \"1.24.1\",\n          \"1.18.1\",\n          \"1.28.0\"\n        ],\n        \"semantic_type\": \"\",\n        \"description\": \"\"\n      }\n    },\n    {\n      \"column\": \"cleaned_content\",\n      \"properties\": {\n        \"dtype\": \"string\",\n        \"num_unique_values\": 7959,\n        \"samples\": [\n          \"aplikasi sangat membantu dan sangat mudah untuk digunakan  semoga semakin keren dan selalu memberi kemudahan jos\",\n          \"kasih lima mudah mudahan bisa membantu\",\n          \"sering eroor klo mau transferburix\"\n        ],\n        \"semantic_type\": \"\",\n        \"description\": \"\"\n      }\n    },\n    {\n      \"column\": \"label\",\n      \"properties\": {\n        \"dtype\": \"category\",\n        \"num_unique_values\": 3,\n        \"samples\": [\n          \"positif\",\n          \"negatif\",\n          \"netral\"\n        ],\n        \"semantic_type\": \"\",\n        \"description\": \"\"\n      }\n    }\n  ]\n}"
            }
          },
          "metadata": {},
          "execution_count": 3
        }
      ]
    },
    {
      "source": [
        "# @title label\n",
        "\n",
        "from matplotlib import pyplot as plt\n",
        "import seaborn as sns\n",
        "df.groupby('label').size().plot(kind='barh', color=sns.palettes.mpl_palette('Dark2'))\n",
        "plt.gca().spines[['top', 'right',]].set_visible(False)"
      ],
      "cell_type": "code",
      "execution_count": 4,
      "outputs": [
        {
          "output_type": "display_data",
          "data": {
            "text/plain": [
              "<Figure size 640x480 with 1 Axes>"
            ],
            "image/png": "[encoded data removed]"
          },
          "metadata": {}
        }
      ],
      "metadata": {
        "colab": {
          "base_uri": "https://localhost:8080/",
          "height": 430
        },
        "id": "eCKs_ga05YNh",
        "outputId": "97d5a16c-ca48-4f0f-e72b-a34d3f11e615"
      }
    },
    {
      "cell_type": "markdown",
      "source": [
        "## **Membuat Model**"
      ],
      "metadata": {
        "id": "Ooe7Ti8F5ZuG"
      }
    },
    {
      "cell_type": "code",
      "source": [
        "#Model LSTM\n",
        "embedding_dim = 100\n",
        "\n",
        "lstm_model = Sequential()\n",
        "lstm_model.add(Embedding(input_dim=5000, output_dim=embedding_dim, input_length=100))\n",
        "lstm_model.add(SpatialDropout1D(0.2))\n",
        "lstm_model.add(LSTM(100, dropout=0.2, recurrent_dropout=0.2))\n",
        "lstm_model.add(Dense(3, activation='softmax'))\n",
        "\n",
        "lstm_model.compile(loss='sparse_categorical_crossentropy', optimizer='adam', metrics=['accuracy'])\n",
        "\n",
        "early_stopping = EarlyStopping(monitor='val_loss', patience=3, restore_best_weights=True)\n",
        "\n",
        "lstm_history = lstm_model.fit(X_train_padded, y_train, epochs=15, batch_size=64, validation_split=0.2, callbacks=[early_stopping])\n",
        "\n",
        "_, lstm_accuracy = lstm_model.evaluate(X_test_padded, y_test)\n",
        "print(f'LSTM Accuracy: {lstm_accuracy * 100:.2f}%')\n"
      ],
      "metadata": {
        "colab": {
          "base_uri": "https://localhost:8080/"
        },
        "id": "-a227zfd5f7o",
        "outputId": "9f2a36d1-00b0-460a-c54e-0fcca816255d"
      },
      "execution_count": 5,
      "outputs": [
        {
          "output_type": "stream",
          "name": "stdout",
          "text": [
            "Epoch 1/15\n"
          ]
        },
        {
          "output_type": "stream",
          "name": "stderr",
          "text": [
            "/usr/local/lib/python3.10/dist-packages/keras/src/layers/core/embedding.py:90: UserWarning: Argument `input_length` is deprecated. Just remove it.\n",
            "  warnings.warn(\n"
          ]
        },
        {
          "output_type": "stream",
          "name": "stdout",
          "text": [
            "\u001b[1m125/125\u001b[0m \u001b[32m━━━━━━━━━━━━━━━━━━━━\u001b[0m\u001b[37m\u001b[0m \u001b[1m49s\u001b[0m 366ms/step - accuracy: 0.8035 - loss: 0.5681 - val_accuracy: 0.8670 - val_loss: 0.3759\n",
            "Epoch 2/15\n",
            "\u001b[1m125/125\u001b[0m \u001b[32m━━━━━━━━━━━━━━━━━━━━\u001b[0m\u001b[37m\u001b[0m \u001b[1m26s\u001b[0m 208ms/step - accuracy: 0.8975 - loss: 0.3109 - val_accuracy: 0.8975 - val_loss: 0.3203\n",
            "Epoch 3/15\n",
            "\u001b[1m125/125\u001b[0m \u001b[32m━━━━━━━━━━━━━━━━━━━━\u001b[0m\u001b[37m\u001b[0m \u001b[1m26s\u001b[0m 209ms/step - accuracy: 0.9176 - loss: 0.2696 - val_accuracy: 0.9035 - val_loss: 0.3153\n",
            "Epoch 4/15\n",
            "\u001b[1m125/125\u001b[0m \u001b[32m━━━━━━━━━━━━━━━━━━━━\u001b[0m\u001b[37m\u001b[0m \u001b[1m27s\u001b[0m 218ms/step - accuracy: 0.9318 - loss: 0.2309 - val_accuracy: 0.9020 - val_loss: 0.3226\n",
            "Epoch 5/15\n",
            "\u001b[1m125/125\u001b[0m \u001b[32m━━━━━━━━━━━━━━━━━━━━\u001b[0m\u001b[37m\u001b[0m \u001b[1m43s\u001b[0m 230ms/step - accuracy: 0.9428 - loss: 0.1920 - val_accuracy: 0.8980 - val_loss: 0.3383\n",
            "Epoch 6/15\n",
            "\u001b[1m125/125\u001b[0m \u001b[32m━━━━━━━━━━━━━━━━━━━━\u001b[0m\u001b[37m\u001b[0m \u001b[1m36s\u001b[0m 195ms/step - accuracy: 0.9504 - loss: 0.1723 - val_accuracy: 0.8985 - val_loss: 0.3546\n",
            "\u001b[1m79/79\u001b[0m \u001b[32m━━━━━━━━━━━━━━━━━━━━\u001b[0m\u001b[37m\u001b[0m \u001b[1m3s\u001b[0m 35ms/step - accuracy: 0.8961 - loss: 0.3362\n",
            "LSTM Accuracy: 90.08%\n"
          ]
        }
      ]
    },
    {
      "cell_type": "code",
      "source": [
        "#Model CNN\n",
        "cnn_model = Sequential()\n",
        "cnn_model.add(Embedding(input_dim=5000, output_dim=embedding_dim, input_length=100))\n",
        "cnn_model.add(Conv1D(128, kernel_size=5, activation='relu'))\n",
        "cnn_model.add(MaxPooling1D(pool_size=2))\n",
        "cnn_model.add(Flatten())\n",
        "cnn_model.add(Dense(3, activation='softmax'))\n",
        "\n",
        "cnn_model.compile(loss='sparse_categorical_crossentropy', optimizer='adam', metrics=['accuracy'])\n",
        "\n",
        "cnn_history = cnn_model.fit(X_train_padded, y_train, epochs=15, batch_size=64, validation_split=0.2, callbacks=[early_stopping])\n",
        "\n",
        "_, cnn_accuracy = cnn_model.evaluate(X_test_padded, y_test)\n",
        "print(f'CNN Accuracy: {cnn_accuracy * 100:.2f}%')\n"
      ],
      "metadata": {
        "colab": {
          "base_uri": "https://localhost:8080/"
        },
        "id": "Kxrf-Kvm5hiP",
        "outputId": "d6b9cd95-7290-406f-9910-690804176a1f"
      },
      "execution_count": 6,
      "outputs": [
        {
          "output_type": "stream",
          "name": "stdout",
          "text": [
            "Epoch 1/15\n",
            "\u001b[1m125/125\u001b[0m \u001b[32m━━━━━━━━━━━━━━━━━━━━\u001b[0m\u001b[37m\u001b[0m \u001b[1m11s\u001b[0m 80ms/step - accuracy: 0.8410 - loss: 0.5281 - val_accuracy: 0.8965 - val_loss: 0.3293\n",
            "Epoch 2/15\n",
            "\u001b[1m125/125\u001b[0m \u001b[32m━━━━━━━━━━━━━━━━━━━━\u001b[0m\u001b[37m\u001b[0m \u001b[1m10s\u001b[0m 81ms/step - accuracy: 0.9059 - loss: 0.2937 - val_accuracy: 0.8950 - val_loss: 0.3246\n",
            "Epoch 3/15\n",
            "\u001b[1m125/125\u001b[0m \u001b[32m━━━━━━━━━━━━━━━━━━━━\u001b[0m\u001b[37m\u001b[0m \u001b[1m11s\u001b[0m 91ms/step - accuracy: 0.9311 - loss: 0.2304 - val_accuracy: 0.8945 - val_loss: 0.3430\n",
            "\u001b[1m79/79\u001b[0m \u001b[32m━━━━━━━━━━━━━━━━━━━━\u001b[0m\u001b[37m\u001b[0m \u001b[1m1s\u001b[0m 11ms/step - accuracy: 0.8917 - loss: 0.3437\n",
            "CNN Accuracy: 90.04%\n"
          ]
        }
      ]
    },
    {
      "cell_type": "code",
      "source": [
        "#Model Gru\n",
        "gru_model = Sequential()\n",
        "gru_model.add(Embedding(input_dim=5000, output_dim=embedding_dim, input_length=100))\n",
        "gru_model.add(SpatialDropout1D(0.2))\n",
        "gru_model.add(GRU(100, dropout=0.2, recurrent_dropout=0.2))\n",
        "gru_model.add(Dense(3, activation='softmax'))\n",
        "\n",
        "gru_model.compile(loss='sparse_categorical_crossentropy', optimizer='adam', metrics=['accuracy'])\n",
        "\n",
        "gru_history = gru_model.fit(X_train_padded, y_train, epochs=15, batch_size=64, validation_split=0.2, callbacks=[early_stopping])\n",
        "\n",
        "_, gru_accuracy = gru_model.evaluate(X_test_padded, y_test)\n",
        "print(f'GRU Accuracy: {gru_accuracy * 100:.2f}%')\n"
      ],
      "metadata": {
        "colab": {
          "base_uri": "https://localhost:8080/"
        },
        "id": "pQusxA4s5rtf",
        "outputId": "f66b608f-4162-4da2-80ed-87a894b53398"
      },
      "execution_count": 7,
      "outputs": [
        {
          "output_type": "stream",
          "name": "stdout",
          "text": [
            "Epoch 1/15\n",
            "\u001b[1m125/125\u001b[0m \u001b[32m━━━━━━━━━━━━━━━━━━━━\u001b[0m\u001b[37m\u001b[0m \u001b[1m33s\u001b[0m 242ms/step - accuracy: 0.7962 - loss: 31.8769 - val_accuracy: 0.8215 - val_loss: 0.6039\n",
            "Epoch 2/15\n",
            "\u001b[1m125/125\u001b[0m \u001b[32m━━━━━━━━━━━━━━━━━━━━\u001b[0m\u001b[37m\u001b[0m \u001b[1m40s\u001b[0m 238ms/step - accuracy: 0.8363 - loss: 0.4923 - val_accuracy: 0.8440 - val_loss: 0.4562\n",
            "Epoch 3/15\n",
            "\u001b[1m125/125\u001b[0m \u001b[32m━━━━━━━━━━━━━━━━━━━━\u001b[0m\u001b[37m\u001b[0m \u001b[1m31s\u001b[0m 247ms/step - accuracy: 0.8647 - loss: 0.3868 - val_accuracy: 0.8715 - val_loss: 0.4083\n",
            "\u001b[1m79/79\u001b[0m \u001b[32m━━━━━━━━━━━━━━━━━━━━\u001b[0m\u001b[37m\u001b[0m \u001b[1m2s\u001b[0m 23ms/step - accuracy: 0.8409 - loss: 0.5917\n",
            "GRU Accuracy: 83.36%\n"
          ]
        }
      ]
    },
    {
      "cell_type": "code",
      "source": [
        "#Model BiLSTM\n",
        "bilstm_model = Sequential()\n",
        "bilstm_model.add(Embedding(input_dim=5000, output_dim=embedding_dim, input_length=100))\n",
        "bilstm_model.add(SpatialDropout1D(0.2))\n",
        "bilstm_model.add(Bidirectional(LSTM(100, dropout=0.2, recurrent_dropout=0.2)))\n",
        "bilstm_model.add(Dense(3, activation='softmax'))\n",
        "\n",
        "bilstm_model.compile(loss='sparse_categorical_crossentropy', optimizer='adam', metrics=['accuracy'])\n",
        "\n",
        "bilstm_history = bilstm_model.fit(X_train_padded, y_train, epochs=15, batch_size=64, validation_split=0.2, callbacks=[early_stopping])\n",
        "\n",
        "_, bilstm_accuracy = bilstm_model.evaluate(X_test_padded, y_test)\n",
        "print(f'BiLSTM Accuracy: {bilstm_accuracy * 100:.2f}%')\n"
      ],
      "metadata": {
        "colab": {
          "base_uri": "https://localhost:8080/"
        },
        "id": "cKryQLtG5y8f",
        "outputId": "fa7a4284-e280-4b9c-dfe6-a5916f614d7a"
      },
      "execution_count": 8,
      "outputs": [
        {
          "output_type": "stream",
          "name": "stdout",
          "text": [
            "Epoch 1/15\n",
            "\u001b[1m125/125\u001b[0m \u001b[32m━━━━━━━━━━━━━━━━━━━━\u001b[0m\u001b[37m\u001b[0m \u001b[1m52s\u001b[0m 388ms/step - accuracy: 0.8123 - loss: 0.5441 - val_accuracy: 0.8795 - val_loss: 0.3517\n",
            "Epoch 2/15\n",
            "\u001b[1m125/125\u001b[0m \u001b[32m━━━━━━━━━━━━━━━━━━━━\u001b[0m\u001b[37m\u001b[0m \u001b[1m83s\u001b[0m 396ms/step - accuracy: 0.8992 - loss: 0.3268 - val_accuracy: 0.8880 - val_loss: 0.3335\n",
            "Epoch 3/15\n",
            "\u001b[1m125/125\u001b[0m \u001b[32m━━━━━━━━━━━━━━━━━━━━\u001b[0m\u001b[37m\u001b[0m \u001b[1m82s\u001b[0m 395ms/step - accuracy: 0.9144 - loss: 0.2730 - val_accuracy: 0.9060 - val_loss: 0.3144\n",
            "Epoch 4/15\n",
            "\u001b[1m125/125\u001b[0m \u001b[32m━━━━━━━━━━━━━━━━━━━━\u001b[0m\u001b[37m\u001b[0m \u001b[1m49s\u001b[0m 390ms/step - accuracy: 0.9351 - loss: 0.2197 - val_accuracy: 0.9005 - val_loss: 0.3246\n",
            "Epoch 5/15\n",
            "\u001b[1m125/125\u001b[0m \u001b[32m━━━━━━━━━━━━━━━━━━━━\u001b[0m\u001b[37m\u001b[0m \u001b[1m81s\u001b[0m 387ms/step - accuracy: 0.9403 - loss: 0.2019 - val_accuracy: 0.8965 - val_loss: 0.3551\n",
            "Epoch 6/15\n",
            "\u001b[1m125/125\u001b[0m \u001b[32m━━━━━━━━━━━━━━━━━━━━\u001b[0m\u001b[37m\u001b[0m \u001b[1m50s\u001b[0m 404ms/step - accuracy: 0.9469 - loss: 0.1747 - val_accuracy: 0.8955 - val_loss: 0.3627\n",
            "\u001b[1m79/79\u001b[0m \u001b[32m━━━━━━━━━━━━━━━━━━━━\u001b[0m\u001b[37m\u001b[0m \u001b[1m4s\u001b[0m 45ms/step - accuracy: 0.8932 - loss: 0.3276\n",
            "BiLSTM Accuracy: 90.16%\n"
          ]
        }
      ]
    },
    {
      "cell_type": "markdown",
      "source": [
        "**Evaluasi dan Pemilihan Model Terbaik**"
      ],
      "metadata": {
        "id": "Rlya1mGD552f"
      }
    },
    {
      "cell_type": "code",
      "source": [
        "# Menampilkan akurasi semua model\n",
        "print(f'LSTM Accuracy: {lstm_accuracy * 100:.2f}%')\n",
        "print(f'CNN Accuracy: {cnn_accuracy * 100:.2f}%')\n",
        "print(f'GRU Accuracy: {gru_accuracy * 100:.2f}%')\n",
        "print(f'BiLSTM Accuracy: {bilstm_accuracy * 100:.2f}%')\n",
        "\n",
        "# Memilih model terbaik\n",
        "best_accuracy = max(lstm_accuracy, cnn_accuracy, gru_accuracy, bilstm_accuracy)\n",
        "if best_accuracy >= 0.85:\n",
        "    print(f\"Model terbaik dengan akurasi {best_accuracy * 100:.2f}%\")\n",
        "else:\n",
        "    print(\"Tidak ada model yang mencapai akurasi 85%\")\n"
      ],
      "metadata": {
        "colab": {
          "base_uri": "https://localhost:8080/"
        },
        "id": "VRtMRCmp55cl",
        "outputId": "85ec703d-9290-457b-b382-6f558674b401"
      },
      "execution_count": 9,
      "outputs": [
        {
          "output_type": "stream",
          "name": "stdout",
          "text": [
            "LSTM Accuracy: 90.08%\n",
            "CNN Accuracy: 90.04%\n",
            "GRU Accuracy: 83.36%\n",
            "BiLSTM Accuracy: 90.16%\n",
            "Model terbaik dengan akurasi 90.16%\n"
          ]
        }
      ]
    },
    {
      "cell_type": "code",
      "source": [
        "#Menyimpan Model Terbaik\n",
        "if best_accuracy == lstm_accuracy:\n",
        "    lstm_model.save('/content/drive/My Drive/Colab Notebooks/DICODING/Intermediate/lstm_model.h5')\n",
        "elif best_accuracy == cnn_accuracy:\n",
        "    cnn_model.save('/content/drive/My Drive/Colab Notebooks/DICODING/Intermediate/cnn_model.h5')\n",
        "elif best_accuracy == gru_accuracy:\n",
        "    gru_model.save('/content/drive/My Drive/Colab Notebooks/DICODING/Intermediate/gru_model.h5')\n",
        "elif best_accuracy == bilstm_accuracy:\n",
        "    bilstm_model.save('/content/drive/My Drive/Colab Notebooks/DICODING/Intermediate/bilstm_model.h5')\n"
      ],
      "metadata": {
        "colab": {
          "base_uri": "https://localhost:8080/"
        },
        "id": "oYsm5_5N6Dts",
        "outputId": "b933670c-501c-4937-aa9a-c55069bd4501"
      },
      "execution_count": 10,
      "outputs": [
        {
          "output_type": "stream",
          "name": "stderr",
          "text": [
            "WARNING:absl:You are saving your model as an HDF5 file via `model.save()` or `keras.saving.save_model(model)`. This file format is considered legacy. We recommend using instead the native Keras format, e.g. `model.save('my_model.keras')` or `keras.saving.save_model(model, 'my_model.keras')`. \n"
          ]
        }
      ]
    },
    {
      "cell_type": "code",
      "source": [
        "# Menghasilkan requirements.txt\n",
        "!pip freeze > requirements.txt\n",
        "\n",
        "# Mengunduh requirements.txt\n",
        "from google.colab import files\n",
        "files.download('requirements.txt')"
      ],
      "metadata": {
        "colab": {
          "base_uri": "https://localhost:8080/",
          "height": 17
        },
        "id": "b7bPjruw9Ays",
        "outputId": "fbdf491a-d917-4470-d427-ec97a793e4d3"
      },
      "execution_count": 11,
      "outputs": [
        {
          "output_type": "display_data",
          "data": {
            "text/plain": [
              "<IPython.core.display.Javascript object>"
            ],
            "application/javascript": [
              "\n",
              "    async function download(id, filename, size) {\n",
              "      if (!google.colab.kernel.accessAllowed) {\n",
              "        return;\n",
              "      }\n",
              "      const div = document.createElement('div');\n",
              "      const label = document.createElement('label');\n",
              "      label.textContent = `Downloading \"${filename}\": `;\n",
              "      div.appendChild(label);\n",
              "      const progress = document.createElement('progress');\n",
              "      progress.max = size;\n",
              "      div.appendChild(progress);\n",
              "      document.body.appendChild(div);\n",
              "\n",
              "      const buffers = [];\n",
              "      let downloaded = 0;\n",
              "\n",
              "      const channel = await google.colab.kernel.comms.open(id);\n",
              "      // Send a message to notify the kernel that we're ready.\n",
              "      channel.send({})\n",
              "\n",
              "      for await (const message of channel.messages) {\n",
              "        // Send a message to notify the kernel that we're ready.\n",
              "        channel.send({})\n",
              "        if (message.buffers) {\n",
              "          for (const buffer of message.buffers) {\n",
              "            buffers.push(buffer);\n",
              "            downloaded += buffer.byteLength;\n",
              "            progress.value = downloaded;\n",
              "          }\n",
              "        }\n",
              "      }\n",
              "      const blob = new Blob(buffers, {type: 'application/binary'});\n",
              "      const a = document.createElement('a');\n",
              "      a.href = window.URL.createObjectURL(blob);\n",
              "      a.download = filename;\n",
              "      div.appendChild(a);\n",
              "      a.click();\n",
              "      div.remove();\n",
              "    }\n",
              "  "
            ]
          },
          "metadata": {}
        },
        {
          "output_type": "display_data",
          "data": {
            "text/plain": [
              "<IPython.core.display.Javascript object>"
            ],
            "application/javascript": [
              "download(\"download_411d1ab7-3de4-48c7-8c67-67ba70df6f78\", \"requirements.txt\", 10393)"
            ]
          },
          "metadata": {}
        }
      ]
    }
  ]
}